{
  "nbformat": 4,
  "nbformat_minor": 0,
  "metadata": {
    "colab": {
      "name": "Building_EfficientNet_model_using_Pytorch.ipynb",
      "provenance": [],
      "collapsed_sections": [],
      "include_colab_link": true
    },
    "kernelspec": {
      "name": "python3",
      "display_name": "Python 3"
    },
    "accelerator": "GPU"
  },
  "cells": [
    {
      "cell_type": "markdown",
      "metadata": {
        "id": "view-in-github",
        "colab_type": "text"
      },
      "source": [
        "<a href=\"https://colab.research.google.com/github/PotatoSpudowski/CactiNet/blob/master/Building_EfficientNet_model_using_Pytorch.ipynb\" target=\"_parent\"><img src=\"https://colab.research.google.com/assets/colab-badge.svg\" alt=\"Open In Colab\"/></a>"
      ]
    },
    {
      "cell_type": "code",
      "metadata": {
        "id": "b2-A6Viz1whd",
        "colab_type": "code",
        "colab": {}
      },
      "source": [
        "import numpy as np\n",
        "import pandas as pd\n",
        "import os\n",
        "import matplotlib.pyplot as plt\n",
        "import matplotlib.image as mpimg\n",
        "\n",
        "import torch\n",
        "import torch.nn as nn\n",
        "import torch.nn.functional as F\n",
        "import torch.optim as optim \n",
        "\n",
        "import torchvision\n",
        "from torch.utils.data import DataLoader, Dataset\n",
        "import torch.utils.data as utils\n",
        "from torch.utils.data.sampler import SubsetRandomSampler\n",
        "from torchvision import transforms\n",
        "from torchsummary import summary\n",
        "\n",
        "import matplotlib.pyplot as plt\n",
        "%matplotlib inline\n",
        "\n",
        "import warnings\n",
        "warnings.filterwarnings(\"ignore\")"
      ],
      "execution_count": 0,
      "outputs": []
    },
    {
      "cell_type": "markdown",
      "metadata": {
        "id": "1IQQHfMu6wW6",
        "colab_type": "text"
      },
      "source": [
        "###Defining Layers"
      ]
    },
    {
      "cell_type": "code",
      "metadata": {
        "id": "I_HwGVnC-vxi",
        "colab_type": "code",
        "colab": {}
      },
      "source": [
        "#Swish activation function\n",
        "class Swish(nn.Module):\n",
        "    \"\"\"\n",
        "    Activation function designed to kick ReLU's @$$\n",
        "    \"\"\"\n",
        "    def forward(self, x):\n",
        "        return x * torch.sigmoid(x)"
      ],
      "execution_count": 0,
      "outputs": []
    },
    {
      "cell_type": "code",
      "metadata": {
        "id": "ckoeue1tFkzl",
        "colab_type": "code",
        "colab": {}
      },
      "source": [
        "class Conv2D_with_same_padding(nn.Conv2d):\n",
        "    \"\"\"\n",
        "    Conv2d layer with padding implemented in a way such that size of \n",
        "    the input features and the output features remain same.\n",
        "    \"\"\"\n",
        "    def __init__(self, in_ch, out_ch, kernel_size, stride=1, dilation=1, groups=1, bias=True, padding_mode=\"zeros\"):\n",
        "        super().__init__(in_ch, out_ch, kernel_size, stride, 0, dilation, groups, bias, padding_mode)\n",
        "\n",
        "    def get_odd_padding(self, in_ch, weight, stride, dilation):\n",
        "        filter_row =  (weight - 1) * dilation + 1\n",
        "        out_rows = (in_ch + stride - 1) // stride\n",
        "        padding = max(0, (out_rows - 1) * stride + filter_row - in_ch)\n",
        "        padding_val= max(0, (out_rows - 1) * stride + (weight - 1) * dilation + 1 - in_ch)\n",
        "        odd = (padding_val % 2 != 0)\n",
        "        return padding_val, odd\n",
        "\n",
        "    def forward(self, x):\n",
        "        padding_row, row_odd = self.get_odd_padding(x.shape[2], self.weight.shape[2], self.stride[0], self.dilation[0])\n",
        "        padding_collumn, collumn_odd = self.get_odd_padding(x.shape[3], self.weight.shape[3], self.stride[1], self.dilation[1])\n",
        "\n",
        "        if row_odd or collumn_odd:\n",
        "            x = F.pad(x, [0, int(collumn_odd), 0, int(row_odd)])\n",
        "        \n",
        "        return F.conv2d(x, self.weight, self.bias, self.stride,\n",
        "                        padding = (padding_row // 2, padding_collumn //2),\n",
        "                        dilation = self.dilation,\n",
        "                        groups=self.groups)\n",
        "\n",
        "class Flatten(nn.Module):\n",
        "    def forward(self, x):\n",
        "        return x.view(x.shape[0], -1)\n",
        "\n",
        "class SqueezeExcitationModule(nn.Module):\n",
        "    def __init__(self, in_ch, squeeze_ch):\n",
        "        super().__init__()\n",
        "        self.se = nn.Sequential(\n",
        "            nn.AdaptiveAvgPool2d(1),\n",
        "            nn.Conv2d(in_ch, squeeze_ch, kernel_size=1, stride=1, padding=0, bias=True),\n",
        "            Swish(),\n",
        "            nn.Conv2d(squeeze_ch, in_ch, kernel_size=1, stride=1, padding=0, bias=True)\n",
        "        )\n",
        "\n",
        "    def forward(self, x):\n",
        "        return x * torch.sigmoid(self.se(x))\n",
        "\n",
        "class DropConnections(nn.Module):\n",
        "    \"\"\"\n",
        "    Rndomly disables individual weights\n",
        "    \"\"\"\n",
        "    def __init__(self, ratio):\n",
        "        super().__init__()\n",
        "        self.ratio = 1.0 - ratio\n",
        "\n",
        "    def forward(self, x):\n",
        "        if not self.training:\n",
        "            return x\n",
        "\n",
        "        ran_tensor = self.ratio\n",
        "        ran_tens += torch.rand([x.shape[0], 1, 1, 1], dtype=torch.float, device=x.device)\n",
        "        ran_tensor.requires_grad_(False)\n",
        "        return x / self.ratio * ran_tensor.floor()\n",
        "\n",
        "def Conv_BatchNorm_Activation(in_ch, out_ch, kernel_size, stride=1, groups=1, bias=True, eps=1e-3, momentum=0.01):\n",
        "    return nn.Sequential(\n",
        "        Conv2D_with_same_padding(in_ch, out_ch, kernel_size, stride, groups=groups, bias=bias),\n",
        "        nn.BatchNorm2d(out_ch, eps, momentum),\n",
        "        Swish()\n",
        "    )"
      ],
      "execution_count": 0,
      "outputs": []
    },
    {
      "cell_type": "markdown",
      "metadata": {
        "id": "E6eqsdy30x16",
        "colab_type": "text"
      },
      "source": [
        "###Defining MBConv layer and MBConv Block"
      ]
    },
    {
      "cell_type": "code",
      "metadata": {
        "id": "JzQwM_lPJM1r",
        "colab_type": "code",
        "colab": {}
      },
      "source": [
        "class MBConv(nn.Module):\n",
        "    def __init__(self, in_ch, out_ch, expand, kernel_size, stride, skip, se_ratio, dc_ratio=0.2):\n",
        "        super().__init__()\n",
        "        mid = in_ch * expand\n",
        "        if expand != 0:\n",
        "            self.expand_conv = Conv_BatchNorm_Activation(in_ch, mid, kernel_size=1, bias = False)\n",
        "        else:\n",
        "            nn.Identity()\n",
        "\n",
        "        self.depth_wise_conv = Conv_BatchNorm_Activation(mid, mid, kernel_size=kernel_size, stride=stride, groups=mid, bias=False)\n",
        "\n",
        "        if se_ratio > 0:\n",
        "            self.se = SqueezeExcitationModule(mid, int(in_ch * se_ratio)) \n",
        "        else:\n",
        "            nn.Identity()\n",
        "\n",
        "        self.project_conv = nn.Sequential(\n",
        "            Conv2D_with_same_padding(mid, out_ch, kernel_size=1, stride=1, bias=False),\n",
        "            nn.BatchNorm2d(out_ch, 1e-3, 0.01)\n",
        "        )\n",
        "\n",
        "        self.skip = skip and (stride == 1) and (in_ch == out_ch)\n",
        "\n",
        "        self.dropconnect = nn.Identity()\n",
        "\n",
        "    def forward(self, x):\n",
        "        expand = self.expand_conv(x)\n",
        "        x1 = self.depth_wise_conv(expand)\n",
        "        x1 = self.se(x1)\n",
        "        x1 = self.project_conv(x1)\n",
        "        if self.skip:\n",
        "            x1 = self.dropconnect(x1)\n",
        "            x1 = x1 + x\n",
        "        return x1\n",
        "\n",
        "class MBBlock(nn.Module):\n",
        "    def __init__(self, in_ch, out_ch, expand, kernel, stride, num_repeat, skip, se_ratio, drop_connect_ratio=0.2):\n",
        "        super().__init__()\n",
        "        layers = [\n",
        "            MBConv(in_ch, out_ch, expand, kernel, stride, skip, se_ratio, drop_connect_ratio)\n",
        "        ]\n",
        "\n",
        "        for i in range(1, num_repeat):\n",
        "            layers.append(MBConv(out_ch, out_ch, expand, kernel, 1, skip, se_ratio, drop_connect_ratio))\n",
        "        self.layers = nn.Sequential(*layers)\n",
        "\n",
        "    def forward(self, x):\n",
        "        return  self.layers(x)"
      ],
      "execution_count": 0,
      "outputs": []
    },
    {
      "cell_type": "markdown",
      "metadata": {
        "id": "ln44To9i1HSI",
        "colab_type": "text"
      },
      "source": [
        "##Building the CactiNet model\n",
        "Which is btw totally based on the EfficientNet-b0 model with a few additional MBBlock and change in channel sizes."
      ]
    },
    {
      "cell_type": "code",
      "metadata": {
        "id": "2faiiii_pzZC",
        "colab_type": "code",
        "colab": {}
      },
      "source": [
        "class CactiNet(nn.Module):\n",
        "    def __init__(self, width_coeff=1, depth_coeff=1, depth_div=8, min_depth=None, dropout_rate=0.2, drop_connect_rate=0.2, num_classes=1):\n",
        "        super().__init__()\n",
        "        min_depth = min_depth or depth_div\n",
        "\n",
        "        def renew_ch(x):\n",
        "            if not width_coeff:\n",
        "                return x\n",
        "\n",
        "            x *= width_coeff\n",
        "            new_x = max(min_depth, int(x + depth_div / 2) // depth_div * depth_div)\n",
        "            if new_x < 0.9 * x:\n",
        "                new_x += depth_div\n",
        "            return int(new_x)\n",
        "\n",
        "        def renew_repeat(x):\n",
        "            return int(math.ceil(x * depth_coeff))\n",
        "\n",
        "        self.stem = Conv_BatchNorm_Activation(3, renew_ch(32), kernel_size=3, stride=2, bias=False)\n",
        "\n",
        "        self.blocks = nn.Sequential(\n",
        "            MBBlock(renew_ch(32), renew_ch(18), 1, 3, 1, renew_repeat(1), True, 0.25, drop_connect_rate),\n",
        "            MBBlock(renew_ch(18), renew_ch(28), 6, 3, 2, renew_repeat(2), True, 0.25, drop_connect_rate),\n",
        "            MBBlock(renew_ch(28), renew_ch(46), 6, 5, 2, renew_repeat(2), True, 0.25, drop_connect_rate),\n",
        "            MBBlock(renew_ch(46), renew_ch(80), 6, 3, 2, renew_repeat(3), True, 0.25, drop_connect_rate),\n",
        "            MBBlock(renew_ch(80), renew_ch(122), 6, 5, 1, renew_repeat(3), True, 0.25, drop_connect_rate),\n",
        "            MBBlock(renew_ch(122), renew_ch(192), 6, 5, 2, renew_repeat(4), True, 0.25, drop_connect_rate),\n",
        "            MBBlock(renew_ch(192), renew_ch(320), 6, 3, 1, renew_repeat(1), True, 0.25, drop_connect_rate)\n",
        "        )\n",
        "\n",
        "        self.head = nn.Sequential(\n",
        "            *Conv_BatchNorm_Activation(renew_ch(320), renew_ch(1280), kernel_size=1, bias=False),\n",
        "            nn.AdaptiveAvgPool2d(1),\n",
        "            nn.Dropout2d(dropout_rate, True),\n",
        "            Flatten(),\n",
        "            nn.Linear(renew_ch(1280), num_classes)\n",
        "        )\n",
        "\n",
        "    def forward(self, inputs):\n",
        "        stem = self.stem(inputs)\n",
        "        x = self.blocks(stem)\n",
        "        head = self.head(x)\n",
        "        return head"
      ],
      "execution_count": 0,
      "outputs": []
    },
    {
      "cell_type": "code",
      "metadata": {
        "id": "5K1p1L48vgfb",
        "colab_type": "code",
        "colab": {}
      },
      "source": [
        "model = CactiNet()"
      ],
      "execution_count": 0,
      "outputs": []
    },
    {
      "cell_type": "code",
      "metadata": {
        "id": "x7rdcnSbxI3c",
        "colab_type": "code",
        "colab": {}
      },
      "source": [
        "model = model.to('cuda')"
      ],
      "execution_count": 0,
      "outputs": []
    },
    {
      "cell_type": "code",
      "metadata": {
        "id": "UvZTcGtPxOcB",
        "colab_type": "code",
        "colab": {
          "base_uri": "https://localhost:8080/",
          "height": 1000
        },
        "outputId": "965c5b07-36bd-47b8-dded-de6ed737547e"
      },
      "source": [
        "summary(model, (3, 40, 40))"
      ],
      "execution_count": 89,
      "outputs": [
        {
          "output_type": "stream",
          "text": [
            "----------------------------------------------------------------\n",
            "        Layer (type)               Output Shape         Param #\n",
            "================================================================\n",
            "Conv2D_with_same_padding-1           [-1, 32, 20, 20]             864\n",
            "       BatchNorm2d-2           [-1, 32, 20, 20]              64\n",
            "             Swish-3           [-1, 32, 20, 20]               0\n",
            "Conv2D_with_same_padding-4           [-1, 32, 20, 20]           1,024\n",
            "       BatchNorm2d-5           [-1, 32, 20, 20]              64\n",
            "             Swish-6           [-1, 32, 20, 20]               0\n",
            "Conv2D_with_same_padding-7           [-1, 32, 20, 20]             288\n",
            "       BatchNorm2d-8           [-1, 32, 20, 20]              64\n",
            "             Swish-9           [-1, 32, 20, 20]               0\n",
            "AdaptiveAvgPool2d-10             [-1, 32, 1, 1]               0\n",
            "           Conv2d-11              [-1, 8, 1, 1]             264\n",
            "            Swish-12              [-1, 8, 1, 1]               0\n",
            "           Conv2d-13             [-1, 32, 1, 1]             288\n",
            "SqueezeExcitationModule-14           [-1, 32, 20, 20]               0\n",
            "Conv2D_with_same_padding-15           [-1, 24, 20, 20]             768\n",
            "      BatchNorm2d-16           [-1, 24, 20, 20]              48\n",
            "           MBConv-17           [-1, 24, 20, 20]               0\n",
            "          MBBlock-18           [-1, 24, 20, 20]               0\n",
            "Conv2D_with_same_padding-19          [-1, 144, 20, 20]           3,456\n",
            "      BatchNorm2d-20          [-1, 144, 20, 20]             288\n",
            "            Swish-21          [-1, 144, 20, 20]               0\n",
            "Conv2D_with_same_padding-22          [-1, 144, 10, 10]           1,296\n",
            "      BatchNorm2d-23          [-1, 144, 10, 10]             288\n",
            "            Swish-24          [-1, 144, 10, 10]               0\n",
            "AdaptiveAvgPool2d-25            [-1, 144, 1, 1]               0\n",
            "           Conv2d-26              [-1, 6, 1, 1]             870\n",
            "            Swish-27              [-1, 6, 1, 1]               0\n",
            "           Conv2d-28            [-1, 144, 1, 1]           1,008\n",
            "SqueezeExcitationModule-29          [-1, 144, 10, 10]               0\n",
            "Conv2D_with_same_padding-30           [-1, 32, 10, 10]           4,608\n",
            "      BatchNorm2d-31           [-1, 32, 10, 10]              64\n",
            "           MBConv-32           [-1, 32, 10, 10]               0\n",
            "Conv2D_with_same_padding-33          [-1, 192, 10, 10]           6,144\n",
            "      BatchNorm2d-34          [-1, 192, 10, 10]             384\n",
            "            Swish-35          [-1, 192, 10, 10]               0\n",
            "Conv2D_with_same_padding-36          [-1, 192, 10, 10]           1,728\n",
            "      BatchNorm2d-37          [-1, 192, 10, 10]             384\n",
            "            Swish-38          [-1, 192, 10, 10]               0\n",
            "AdaptiveAvgPool2d-39            [-1, 192, 1, 1]               0\n",
            "           Conv2d-40              [-1, 8, 1, 1]           1,544\n",
            "            Swish-41              [-1, 8, 1, 1]               0\n",
            "           Conv2d-42            [-1, 192, 1, 1]           1,728\n",
            "SqueezeExcitationModule-43          [-1, 192, 10, 10]               0\n",
            "Conv2D_with_same_padding-44           [-1, 32, 10, 10]           6,144\n",
            "      BatchNorm2d-45           [-1, 32, 10, 10]              64\n",
            "         Identity-46           [-1, 32, 10, 10]               0\n",
            "           MBConv-47           [-1, 32, 10, 10]               0\n",
            "          MBBlock-48           [-1, 32, 10, 10]               0\n",
            "Conv2D_with_same_padding-49          [-1, 192, 10, 10]           6,144\n",
            "      BatchNorm2d-50          [-1, 192, 10, 10]             384\n",
            "            Swish-51          [-1, 192, 10, 10]               0\n",
            "Conv2D_with_same_padding-52            [-1, 192, 5, 5]           4,800\n",
            "      BatchNorm2d-53            [-1, 192, 5, 5]             384\n",
            "            Swish-54            [-1, 192, 5, 5]               0\n",
            "AdaptiveAvgPool2d-55            [-1, 192, 1, 1]               0\n",
            "           Conv2d-56              [-1, 8, 1, 1]           1,544\n",
            "            Swish-57              [-1, 8, 1, 1]               0\n",
            "           Conv2d-58            [-1, 192, 1, 1]           1,728\n",
            "SqueezeExcitationModule-59            [-1, 192, 5, 5]               0\n",
            "Conv2D_with_same_padding-60             [-1, 48, 5, 5]           9,216\n",
            "      BatchNorm2d-61             [-1, 48, 5, 5]              96\n",
            "           MBConv-62             [-1, 48, 5, 5]               0\n",
            "Conv2D_with_same_padding-63            [-1, 288, 5, 5]          13,824\n",
            "      BatchNorm2d-64            [-1, 288, 5, 5]             576\n",
            "            Swish-65            [-1, 288, 5, 5]               0\n",
            "Conv2D_with_same_padding-66            [-1, 288, 5, 5]           7,200\n",
            "      BatchNorm2d-67            [-1, 288, 5, 5]             576\n",
            "            Swish-68            [-1, 288, 5, 5]               0\n",
            "AdaptiveAvgPool2d-69            [-1, 288, 1, 1]               0\n",
            "           Conv2d-70             [-1, 12, 1, 1]           3,468\n",
            "            Swish-71             [-1, 12, 1, 1]               0\n",
            "           Conv2d-72            [-1, 288, 1, 1]           3,744\n",
            "SqueezeExcitationModule-73            [-1, 288, 5, 5]               0\n",
            "Conv2D_with_same_padding-74             [-1, 48, 5, 5]          13,824\n",
            "      BatchNorm2d-75             [-1, 48, 5, 5]              96\n",
            "         Identity-76             [-1, 48, 5, 5]               0\n",
            "           MBConv-77             [-1, 48, 5, 5]               0\n",
            "          MBBlock-78             [-1, 48, 5, 5]               0\n",
            "Conv2D_with_same_padding-79            [-1, 288, 5, 5]          13,824\n",
            "      BatchNorm2d-80            [-1, 288, 5, 5]             576\n",
            "            Swish-81            [-1, 288, 5, 5]               0\n",
            "Conv2D_with_same_padding-82            [-1, 288, 3, 3]           2,592\n",
            "      BatchNorm2d-83            [-1, 288, 3, 3]             576\n",
            "            Swish-84            [-1, 288, 3, 3]               0\n",
            "AdaptiveAvgPool2d-85            [-1, 288, 1, 1]               0\n",
            "           Conv2d-86             [-1, 12, 1, 1]           3,468\n",
            "            Swish-87             [-1, 12, 1, 1]               0\n",
            "           Conv2d-88            [-1, 288, 1, 1]           3,744\n",
            "SqueezeExcitationModule-89            [-1, 288, 3, 3]               0\n",
            "Conv2D_with_same_padding-90             [-1, 80, 3, 3]          23,040\n",
            "      BatchNorm2d-91             [-1, 80, 3, 3]             160\n",
            "           MBConv-92             [-1, 80, 3, 3]               0\n",
            "Conv2D_with_same_padding-93            [-1, 480, 3, 3]          38,400\n",
            "      BatchNorm2d-94            [-1, 480, 3, 3]             960\n",
            "            Swish-95            [-1, 480, 3, 3]               0\n",
            "Conv2D_with_same_padding-96            [-1, 480, 3, 3]           4,320\n",
            "      BatchNorm2d-97            [-1, 480, 3, 3]             960\n",
            "            Swish-98            [-1, 480, 3, 3]               0\n",
            "AdaptiveAvgPool2d-99            [-1, 480, 1, 1]               0\n",
            "          Conv2d-100             [-1, 20, 1, 1]           9,620\n",
            "           Swish-101             [-1, 20, 1, 1]               0\n",
            "          Conv2d-102            [-1, 480, 1, 1]          10,080\n",
            "SqueezeExcitationModule-103            [-1, 480, 3, 3]               0\n",
            "Conv2D_with_same_padding-104             [-1, 80, 3, 3]          38,400\n",
            "     BatchNorm2d-105             [-1, 80, 3, 3]             160\n",
            "        Identity-106             [-1, 80, 3, 3]               0\n",
            "          MBConv-107             [-1, 80, 3, 3]               0\n",
            "Conv2D_with_same_padding-108            [-1, 480, 3, 3]          38,400\n",
            "     BatchNorm2d-109            [-1, 480, 3, 3]             960\n",
            "           Swish-110            [-1, 480, 3, 3]               0\n",
            "Conv2D_with_same_padding-111            [-1, 480, 3, 3]           4,320\n",
            "     BatchNorm2d-112            [-1, 480, 3, 3]             960\n",
            "           Swish-113            [-1, 480, 3, 3]               0\n",
            "AdaptiveAvgPool2d-114            [-1, 480, 1, 1]               0\n",
            "          Conv2d-115             [-1, 20, 1, 1]           9,620\n",
            "           Swish-116             [-1, 20, 1, 1]               0\n",
            "          Conv2d-117            [-1, 480, 1, 1]          10,080\n",
            "SqueezeExcitationModule-118            [-1, 480, 3, 3]               0\n",
            "Conv2D_with_same_padding-119             [-1, 80, 3, 3]          38,400\n",
            "     BatchNorm2d-120             [-1, 80, 3, 3]             160\n",
            "        Identity-121             [-1, 80, 3, 3]               0\n",
            "          MBConv-122             [-1, 80, 3, 3]               0\n",
            "         MBBlock-123             [-1, 80, 3, 3]               0\n",
            "Conv2D_with_same_padding-124            [-1, 480, 3, 3]          38,400\n",
            "     BatchNorm2d-125            [-1, 480, 3, 3]             960\n",
            "           Swish-126            [-1, 480, 3, 3]               0\n",
            "Conv2D_with_same_padding-127            [-1, 480, 3, 3]          12,000\n",
            "     BatchNorm2d-128            [-1, 480, 3, 3]             960\n",
            "           Swish-129            [-1, 480, 3, 3]               0\n",
            "AdaptiveAvgPool2d-130            [-1, 480, 1, 1]               0\n",
            "          Conv2d-131             [-1, 20, 1, 1]           9,620\n",
            "           Swish-132             [-1, 20, 1, 1]               0\n",
            "          Conv2d-133            [-1, 480, 1, 1]          10,080\n",
            "SqueezeExcitationModule-134            [-1, 480, 3, 3]               0\n",
            "Conv2D_with_same_padding-135            [-1, 120, 3, 3]          57,600\n",
            "     BatchNorm2d-136            [-1, 120, 3, 3]             240\n",
            "          MBConv-137            [-1, 120, 3, 3]               0\n",
            "Conv2D_with_same_padding-138            [-1, 720, 3, 3]          86,400\n",
            "     BatchNorm2d-139            [-1, 720, 3, 3]           1,440\n",
            "           Swish-140            [-1, 720, 3, 3]               0\n",
            "Conv2D_with_same_padding-141            [-1, 720, 3, 3]          18,000\n",
            "     BatchNorm2d-142            [-1, 720, 3, 3]           1,440\n",
            "           Swish-143            [-1, 720, 3, 3]               0\n",
            "AdaptiveAvgPool2d-144            [-1, 720, 1, 1]               0\n",
            "          Conv2d-145             [-1, 30, 1, 1]          21,630\n",
            "           Swish-146             [-1, 30, 1, 1]               0\n",
            "          Conv2d-147            [-1, 720, 1, 1]          22,320\n",
            "SqueezeExcitationModule-148            [-1, 720, 3, 3]               0\n",
            "Conv2D_with_same_padding-149            [-1, 120, 3, 3]          86,400\n",
            "     BatchNorm2d-150            [-1, 120, 3, 3]             240\n",
            "        Identity-151            [-1, 120, 3, 3]               0\n",
            "          MBConv-152            [-1, 120, 3, 3]               0\n",
            "Conv2D_with_same_padding-153            [-1, 720, 3, 3]          86,400\n",
            "     BatchNorm2d-154            [-1, 720, 3, 3]           1,440\n",
            "           Swish-155            [-1, 720, 3, 3]               0\n",
            "Conv2D_with_same_padding-156            [-1, 720, 3, 3]          18,000\n",
            "     BatchNorm2d-157            [-1, 720, 3, 3]           1,440\n",
            "           Swish-158            [-1, 720, 3, 3]               0\n",
            "AdaptiveAvgPool2d-159            [-1, 720, 1, 1]               0\n",
            "          Conv2d-160             [-1, 30, 1, 1]          21,630\n",
            "           Swish-161             [-1, 30, 1, 1]               0\n",
            "          Conv2d-162            [-1, 720, 1, 1]          22,320\n",
            "SqueezeExcitationModule-163            [-1, 720, 3, 3]               0\n",
            "Conv2D_with_same_padding-164            [-1, 120, 3, 3]          86,400\n",
            "     BatchNorm2d-165            [-1, 120, 3, 3]             240\n",
            "        Identity-166            [-1, 120, 3, 3]               0\n",
            "          MBConv-167            [-1, 120, 3, 3]               0\n",
            "         MBBlock-168            [-1, 120, 3, 3]               0\n",
            "Conv2D_with_same_padding-169            [-1, 720, 3, 3]          86,400\n",
            "     BatchNorm2d-170            [-1, 720, 3, 3]           1,440\n",
            "           Swish-171            [-1, 720, 3, 3]               0\n",
            "Conv2D_with_same_padding-172            [-1, 720, 2, 2]          18,000\n",
            "     BatchNorm2d-173            [-1, 720, 2, 2]           1,440\n",
            "           Swish-174            [-1, 720, 2, 2]               0\n",
            "AdaptiveAvgPool2d-175            [-1, 720, 1, 1]               0\n",
            "          Conv2d-176             [-1, 30, 1, 1]          21,630\n",
            "           Swish-177             [-1, 30, 1, 1]               0\n",
            "          Conv2d-178            [-1, 720, 1, 1]          22,320\n",
            "SqueezeExcitationModule-179            [-1, 720, 2, 2]               0\n",
            "Conv2D_with_same_padding-180            [-1, 192, 2, 2]         138,240\n",
            "     BatchNorm2d-181            [-1, 192, 2, 2]             384\n",
            "          MBConv-182            [-1, 192, 2, 2]               0\n",
            "Conv2D_with_same_padding-183           [-1, 1152, 2, 2]         221,184\n",
            "     BatchNorm2d-184           [-1, 1152, 2, 2]           2,304\n",
            "           Swish-185           [-1, 1152, 2, 2]               0\n",
            "Conv2D_with_same_padding-186           [-1, 1152, 2, 2]          28,800\n",
            "     BatchNorm2d-187           [-1, 1152, 2, 2]           2,304\n",
            "           Swish-188           [-1, 1152, 2, 2]               0\n",
            "AdaptiveAvgPool2d-189           [-1, 1152, 1, 1]               0\n",
            "          Conv2d-190             [-1, 48, 1, 1]          55,344\n",
            "           Swish-191             [-1, 48, 1, 1]               0\n",
            "          Conv2d-192           [-1, 1152, 1, 1]          56,448\n",
            "SqueezeExcitationModule-193           [-1, 1152, 2, 2]               0\n",
            "Conv2D_with_same_padding-194            [-1, 192, 2, 2]         221,184\n",
            "     BatchNorm2d-195            [-1, 192, 2, 2]             384\n",
            "        Identity-196            [-1, 192, 2, 2]               0\n",
            "          MBConv-197            [-1, 192, 2, 2]               0\n",
            "Conv2D_with_same_padding-198           [-1, 1152, 2, 2]         221,184\n",
            "     BatchNorm2d-199           [-1, 1152, 2, 2]           2,304\n",
            "           Swish-200           [-1, 1152, 2, 2]               0\n",
            "Conv2D_with_same_padding-201           [-1, 1152, 2, 2]          28,800\n",
            "     BatchNorm2d-202           [-1, 1152, 2, 2]           2,304\n",
            "           Swish-203           [-1, 1152, 2, 2]               0\n",
            "AdaptiveAvgPool2d-204           [-1, 1152, 1, 1]               0\n",
            "          Conv2d-205             [-1, 48, 1, 1]          55,344\n",
            "           Swish-206             [-1, 48, 1, 1]               0\n",
            "          Conv2d-207           [-1, 1152, 1, 1]          56,448\n",
            "SqueezeExcitationModule-208           [-1, 1152, 2, 2]               0\n",
            "Conv2D_with_same_padding-209            [-1, 192, 2, 2]         221,184\n",
            "     BatchNorm2d-210            [-1, 192, 2, 2]             384\n",
            "        Identity-211            [-1, 192, 2, 2]               0\n",
            "          MBConv-212            [-1, 192, 2, 2]               0\n",
            "Conv2D_with_same_padding-213           [-1, 1152, 2, 2]         221,184\n",
            "     BatchNorm2d-214           [-1, 1152, 2, 2]           2,304\n",
            "           Swish-215           [-1, 1152, 2, 2]               0\n",
            "Conv2D_with_same_padding-216           [-1, 1152, 2, 2]          28,800\n",
            "     BatchNorm2d-217           [-1, 1152, 2, 2]           2,304\n",
            "           Swish-218           [-1, 1152, 2, 2]               0\n",
            "AdaptiveAvgPool2d-219           [-1, 1152, 1, 1]               0\n",
            "          Conv2d-220             [-1, 48, 1, 1]          55,344\n",
            "           Swish-221             [-1, 48, 1, 1]               0\n",
            "          Conv2d-222           [-1, 1152, 1, 1]          56,448\n",
            "SqueezeExcitationModule-223           [-1, 1152, 2, 2]               0\n",
            "Conv2D_with_same_padding-224            [-1, 192, 2, 2]         221,184\n",
            "     BatchNorm2d-225            [-1, 192, 2, 2]             384\n",
            "        Identity-226            [-1, 192, 2, 2]               0\n",
            "          MBConv-227            [-1, 192, 2, 2]               0\n",
            "         MBBlock-228            [-1, 192, 2, 2]               0\n",
            "Conv2D_with_same_padding-229           [-1, 1152, 2, 2]         221,184\n",
            "     BatchNorm2d-230           [-1, 1152, 2, 2]           2,304\n",
            "           Swish-231           [-1, 1152, 2, 2]               0\n",
            "Conv2D_with_same_padding-232           [-1, 1152, 2, 2]          10,368\n",
            "     BatchNorm2d-233           [-1, 1152, 2, 2]           2,304\n",
            "           Swish-234           [-1, 1152, 2, 2]               0\n",
            "AdaptiveAvgPool2d-235           [-1, 1152, 1, 1]               0\n",
            "          Conv2d-236             [-1, 48, 1, 1]          55,344\n",
            "           Swish-237             [-1, 48, 1, 1]               0\n",
            "          Conv2d-238           [-1, 1152, 1, 1]          56,448\n",
            "SqueezeExcitationModule-239           [-1, 1152, 2, 2]               0\n",
            "Conv2D_with_same_padding-240            [-1, 320, 2, 2]         368,640\n",
            "     BatchNorm2d-241            [-1, 320, 2, 2]             640\n",
            "          MBConv-242            [-1, 320, 2, 2]               0\n",
            "         MBBlock-243            [-1, 320, 2, 2]               0\n",
            "Conv2D_with_same_padding-244           [-1, 1280, 2, 2]         409,600\n",
            "     BatchNorm2d-245           [-1, 1280, 2, 2]           2,560\n",
            "           Swish-246           [-1, 1280, 2, 2]               0\n",
            "AdaptiveAvgPool2d-247           [-1, 1280, 1, 1]               0\n",
            "       Dropout2d-248           [-1, 1280, 1, 1]               0\n",
            "         Flatten-249                 [-1, 1280]               0\n",
            "          Linear-250                    [-1, 1]           1,281\n",
            "================================================================\n",
            "Total params: 4,145,101\n",
            "Trainable params: 4,145,101\n",
            "Non-trainable params: 0\n",
            "----------------------------------------------------------------\n",
            "Input size (MB): 0.02\n",
            "Forward/backward pass size (MB): 8.73\n",
            "Params size (MB): 15.81\n",
            "Estimated Total Size (MB): 24.56\n",
            "----------------------------------------------------------------\n"
          ],
          "name": "stdout"
        }
      ]
    },
    {
      "cell_type": "code",
      "metadata": {
        "id": "KheqE51B0QoW",
        "colab_type": "code",
        "colab": {}
      },
      "source": [
        "torch.save(model.state_dict(), './CactiNet.pb')"
      ],
      "execution_count": 0,
      "outputs": []
    },
    {
      "cell_type": "markdown",
      "metadata": {
        "id": "UVj8rLjr15y5",
        "colab_type": "text"
      },
      "source": [
        "##Training CactiNet"
      ]
    },
    {
      "cell_type": "code",
      "metadata": {
        "id": "GNtQ_Gs-0uNv",
        "colab_type": "code",
        "colab": {}
      },
      "source": [
        "from google.colab import files\n",
        "# files.upload()\n",
        "#Upload the kaggle.json file here"
      ],
      "execution_count": 0,
      "outputs": []
    },
    {
      "cell_type": "code",
      "metadata": {
        "id": "G19ms8-k2Utv",
        "colab_type": "code",
        "colab": {}
      },
      "source": [
        "!mkdir -p ~/.kaggle\n",
        "!cp kaggle.json ~/.kaggle/\n",
        "\n",
        "!chmod 600 ~/.kaggle/kaggle.json"
      ],
      "execution_count": 0,
      "outputs": []
    },
    {
      "cell_type": "code",
      "metadata": {
        "id": "cB8uRr0Q2eGz",
        "colab_type": "code",
        "colab": {
          "base_uri": "https://localhost:8080/",
          "height": 238
        },
        "outputId": "4546ed81-f9d4-422b-d5b4-4f47f5612bf2"
      },
      "source": [
        "!kaggle competitions download -c aerial-cactus-identification"
      ],
      "execution_count": 60,
      "outputs": [
        {
          "output_type": "stream",
          "text": [
            "Warning: Looks like you're using an outdated API Version, please consider updating (server 1.5.6 / client 1.5.4)\n",
            "Downloading sample_submission.csv to /content\n",
            "  0% 0.00/160k [00:00<?, ?B/s]\n",
            "100% 160k/160k [00:00<00:00, 60.5MB/s]\n",
            "Downloading test.zip to /content\n",
            "  0% 0.00/4.20M [00:00<?, ?B/s]\n",
            "100% 4.20M/4.20M [00:00<00:00, 69.5MB/s]\n",
            "Downloading train.zip to /content\n",
            " 47% 9.00M/19.2M [00:00<00:00, 52.7MB/s]\n",
            "100% 19.2M/19.2M [00:00<00:00, 76.2MB/s]\n",
            "Downloading train.csv to /content\n",
            "  0% 0.00/667k [00:00<?, ?B/s]\n",
            "100% 667k/667k [00:00<00:00, 210MB/s]\n"
          ],
          "name": "stdout"
        }
      ]
    },
    {
      "cell_type": "code",
      "metadata": {
        "id": "jUsYneuy2fCH",
        "colab_type": "code",
        "colab": {
          "base_uri": "https://localhost:8080/",
          "height": 51
        },
        "outputId": "797fb5ab-7d55-4fab-9a95-7de9a4890aa4"
      },
      "source": [
        "# !unzip train.zip\n",
        "# !unzip test.zip\n",
        "!ls"
      ],
      "execution_count": 62,
      "outputs": [
        {
          "output_type": "stream",
          "text": [
            "CactiNet.pb  sample_data\t    test      train\t train.zip\n",
            "kaggle.json  sample_submission.csv  test.zip  train.csv\n"
          ],
          "name": "stdout"
        }
      ]
    },
    {
      "cell_type": "code",
      "metadata": {
        "id": "BJF-7oDv2lH2",
        "colab_type": "code",
        "colab": {}
      },
      "source": [
        "train = './train'\n",
        "test = './test'\n",
        "\n",
        "train_labels =  pd.read_csv('./train.csv')"
      ],
      "execution_count": 0,
      "outputs": []
    },
    {
      "cell_type": "code",
      "metadata": {
        "id": "2eKC1H6Z2vJ7",
        "colab_type": "code",
        "colab": {}
      },
      "source": [
        "class Data(Dataset):\n",
        "    def __init__(self, df, data_dir, transform):\n",
        "        super().__init__()\n",
        "        self.df = df\n",
        "        self.data_dir = data_dir\n",
        "        self.transform = transform\n",
        "\n",
        "    def __len__(self):\n",
        "        return len(self.df)\n",
        "\n",
        "    def __getitem__(self, index):\n",
        "        img_name = self.df.id[index]\n",
        "        label = self.df.has_cactus[index]\n",
        "\n",
        "        img_path = os.path.join(self.data_dir, img_name)\n",
        "        img = mpimg.imread(img_path)\n",
        "        img = self.transform(img)\n",
        "        return img, label"
      ],
      "execution_count": 0,
      "outputs": []
    },
    {
      "cell_type": "code",
      "metadata": {
        "id": "egkZswSX2zGW",
        "colab_type": "code",
        "colab": {}
      },
      "source": [
        "data_transf = transforms.Compose([transforms.ToPILImage(), transforms.ToTensor()])\n",
        "train_data = Data(df = train_labels, data_dir = train, transform = data_transf)\n",
        "train_loader = DataLoader(dataset = train_data, batch_size = 64)"
      ],
      "execution_count": 0,
      "outputs": []
    },
    {
      "cell_type": "code",
      "metadata": {
        "id": "4uBO9VcJ24wI",
        "colab_type": "code",
        "colab": {}
      },
      "source": [
        "for param in model.parameters():\n",
        "    param.requires_grad = True"
      ],
      "execution_count": 0,
      "outputs": []
    },
    {
      "cell_type": "code",
      "metadata": {
        "id": "oDNH16xC3C2m",
        "colab_type": "code",
        "colab": {}
      },
      "source": [
        "optimizer = optim.Adam(model.parameters(), lr=0.0001)\n",
        "loss_func = nn.BCELoss()"
      ],
      "execution_count": 0,
      "outputs": []
    },
    {
      "cell_type": "code",
      "metadata": {
        "id": "35R_0c6s3KVt",
        "colab_type": "code",
        "colab": {
          "base_uri": "https://localhost:8080/",
          "height": 683
        },
        "outputId": "9a76abc0-6146-43c8-e5ce-72b7429fb758"
      },
      "source": [
        "%%time\n",
        "loss_log = []\n",
        "val_loss_log = []\n",
        "n_epochs = 10\n",
        "\n",
        "for epoch in range(n_epochs):\n",
        "    print('Epoch {}/{}'.format(epoch, n_epochs - 1))\n",
        "    print('-' * 50)\n",
        "\n",
        "    model.train()\n",
        "    for step, (data, target) in enumerate(train_loader):\n",
        "        data, target = data.cuda(), target.cuda()\n",
        "        target = target.float()\n",
        "\n",
        "        optimizer.zero_grad()\n",
        "        output = model(data)\n",
        "\n",
        "        m = nn.Sigmoid()\n",
        "        loss = loss_func(m(output), target)\n",
        "        loss.backward()\n",
        "\n",
        "        optimizer.step()\n",
        "\n",
        "        if step % 10 == 0:\n",
        "            loss_log.append(loss.item())      \n",
        "\n",
        "    print('Epoch: {} - Loss: {}'.format(epoch+1, loss.item()))"
      ],
      "execution_count": 93,
      "outputs": [
        {
          "output_type": "stream",
          "text": [
            "Epoch 0/9\n",
            "--------------------------------------------------\n",
            "Epoch: 1 - Loss: 0.23227491974830627\n",
            "Epoch 1/9\n",
            "--------------------------------------------------\n",
            "Epoch: 2 - Loss: 0.043363459408283234\n",
            "Epoch 2/9\n",
            "--------------------------------------------------\n",
            "Epoch: 3 - Loss: 0.02042786218225956\n",
            "Epoch 3/9\n",
            "--------------------------------------------------\n",
            "Epoch: 4 - Loss: 0.009691665880382061\n",
            "Epoch 4/9\n",
            "--------------------------------------------------\n",
            "Epoch: 5 - Loss: 0.0021468650083988905\n",
            "Epoch 5/9\n",
            "--------------------------------------------------\n"
          ],
          "name": "stdout"
        },
        {
          "output_type": "error",
          "ename": "KeyboardInterrupt",
          "evalue": "ignored",
          "traceback": [
            "\u001b[0;31m---------------------------------------------------------------------------\u001b[0m",
            "\u001b[0;31mKeyboardInterrupt\u001b[0m                         Traceback (most recent call last)",
            "\u001b[0;32m<ipython-input-93-ed2854022663>\u001b[0m in \u001b[0;36m<module>\u001b[0;34m()\u001b[0m\n\u001b[0;32m----> 1\u001b[0;31m \u001b[0mget_ipython\u001b[0m\u001b[0;34m(\u001b[0m\u001b[0;34m)\u001b[0m\u001b[0;34m.\u001b[0m\u001b[0mrun_cell_magic\u001b[0m\u001b[0;34m(\u001b[0m\u001b[0;34m'time'\u001b[0m\u001b[0;34m,\u001b[0m \u001b[0;34m''\u001b[0m\u001b[0;34m,\u001b[0m \u001b[0;34m\"loss_log = []\\nval_loss_log = []\\nn_epochs = 10\\n\\nfor epoch in range(n_epochs):\\n    print('Epoch {}/{}'.format(epoch, n_epochs - 1))\\n    print('-' * 50)\\n\\n    model.train()\\n    for step, (data, target) in enumerate(train_loader):\\n        data, target = data.cuda(), target.cuda()\\n        target = target.float()\\n\\n        optimizer.zero_grad()\\n        output = model(data)\\n\\n        m = nn.Sigmoid()\\n        loss = loss_func(m(output), target)\\n        loss.backward()\\n\\n        optimizer.step()\\n\\n        if step % 10 == 0:\\n            loss_log.append(loss.item())      \\n\\n    print('Epoch: {} - Loss: {}'.format(epoch+1, loss.item()))\"\u001b[0m\u001b[0;34m)\u001b[0m\u001b[0;34m\u001b[0m\u001b[0;34m\u001b[0m\u001b[0m\n\u001b[0m",
            "\u001b[0;32m/usr/local/lib/python3.6/dist-packages/IPython/core/interactiveshell.py\u001b[0m in \u001b[0;36mrun_cell_magic\u001b[0;34m(self, magic_name, line, cell)\u001b[0m\n\u001b[1;32m   2115\u001b[0m             \u001b[0mmagic_arg_s\u001b[0m \u001b[0;34m=\u001b[0m \u001b[0mself\u001b[0m\u001b[0;34m.\u001b[0m\u001b[0mvar_expand\u001b[0m\u001b[0;34m(\u001b[0m\u001b[0mline\u001b[0m\u001b[0;34m,\u001b[0m \u001b[0mstack_depth\u001b[0m\u001b[0;34m)\u001b[0m\u001b[0;34m\u001b[0m\u001b[0;34m\u001b[0m\u001b[0m\n\u001b[1;32m   2116\u001b[0m             \u001b[0;32mwith\u001b[0m \u001b[0mself\u001b[0m\u001b[0;34m.\u001b[0m\u001b[0mbuiltin_trap\u001b[0m\u001b[0;34m:\u001b[0m\u001b[0;34m\u001b[0m\u001b[0;34m\u001b[0m\u001b[0m\n\u001b[0;32m-> 2117\u001b[0;31m                 \u001b[0mresult\u001b[0m \u001b[0;34m=\u001b[0m \u001b[0mfn\u001b[0m\u001b[0;34m(\u001b[0m\u001b[0mmagic_arg_s\u001b[0m\u001b[0;34m,\u001b[0m \u001b[0mcell\u001b[0m\u001b[0;34m)\u001b[0m\u001b[0;34m\u001b[0m\u001b[0;34m\u001b[0m\u001b[0m\n\u001b[0m\u001b[1;32m   2118\u001b[0m             \u001b[0;32mreturn\u001b[0m \u001b[0mresult\u001b[0m\u001b[0;34m\u001b[0m\u001b[0;34m\u001b[0m\u001b[0m\n\u001b[1;32m   2119\u001b[0m \u001b[0;34m\u001b[0m\u001b[0m\n",
            "\u001b[0;32m</usr/local/lib/python3.6/dist-packages/decorator.py:decorator-gen-60>\u001b[0m in \u001b[0;36mtime\u001b[0;34m(self, line, cell, local_ns)\u001b[0m\n",
            "\u001b[0;32m/usr/local/lib/python3.6/dist-packages/IPython/core/magic.py\u001b[0m in \u001b[0;36m<lambda>\u001b[0;34m(f, *a, **k)\u001b[0m\n\u001b[1;32m    186\u001b[0m     \u001b[0;31m# but it's overkill for just that one bit of state.\u001b[0m\u001b[0;34m\u001b[0m\u001b[0;34m\u001b[0m\u001b[0;34m\u001b[0m\u001b[0m\n\u001b[1;32m    187\u001b[0m     \u001b[0;32mdef\u001b[0m \u001b[0mmagic_deco\u001b[0m\u001b[0;34m(\u001b[0m\u001b[0marg\u001b[0m\u001b[0;34m)\u001b[0m\u001b[0;34m:\u001b[0m\u001b[0;34m\u001b[0m\u001b[0;34m\u001b[0m\u001b[0m\n\u001b[0;32m--> 188\u001b[0;31m         \u001b[0mcall\u001b[0m \u001b[0;34m=\u001b[0m \u001b[0;32mlambda\u001b[0m \u001b[0mf\u001b[0m\u001b[0;34m,\u001b[0m \u001b[0;34m*\u001b[0m\u001b[0ma\u001b[0m\u001b[0;34m,\u001b[0m \u001b[0;34m**\u001b[0m\u001b[0mk\u001b[0m\u001b[0;34m:\u001b[0m \u001b[0mf\u001b[0m\u001b[0;34m(\u001b[0m\u001b[0;34m*\u001b[0m\u001b[0ma\u001b[0m\u001b[0;34m,\u001b[0m \u001b[0;34m**\u001b[0m\u001b[0mk\u001b[0m\u001b[0;34m)\u001b[0m\u001b[0;34m\u001b[0m\u001b[0;34m\u001b[0m\u001b[0m\n\u001b[0m\u001b[1;32m    189\u001b[0m \u001b[0;34m\u001b[0m\u001b[0m\n\u001b[1;32m    190\u001b[0m         \u001b[0;32mif\u001b[0m \u001b[0mcallable\u001b[0m\u001b[0;34m(\u001b[0m\u001b[0marg\u001b[0m\u001b[0;34m)\u001b[0m\u001b[0;34m:\u001b[0m\u001b[0;34m\u001b[0m\u001b[0;34m\u001b[0m\u001b[0m\n",
            "\u001b[0;32m/usr/local/lib/python3.6/dist-packages/IPython/core/magics/execution.py\u001b[0m in \u001b[0;36mtime\u001b[0;34m(self, line, cell, local_ns)\u001b[0m\n\u001b[1;32m   1191\u001b[0m         \u001b[0;32melse\u001b[0m\u001b[0;34m:\u001b[0m\u001b[0;34m\u001b[0m\u001b[0;34m\u001b[0m\u001b[0m\n\u001b[1;32m   1192\u001b[0m             \u001b[0mst\u001b[0m \u001b[0;34m=\u001b[0m \u001b[0mclock2\u001b[0m\u001b[0;34m(\u001b[0m\u001b[0;34m)\u001b[0m\u001b[0;34m\u001b[0m\u001b[0;34m\u001b[0m\u001b[0m\n\u001b[0;32m-> 1193\u001b[0;31m             \u001b[0mexec\u001b[0m\u001b[0;34m(\u001b[0m\u001b[0mcode\u001b[0m\u001b[0;34m,\u001b[0m \u001b[0mglob\u001b[0m\u001b[0;34m,\u001b[0m \u001b[0mlocal_ns\u001b[0m\u001b[0;34m)\u001b[0m\u001b[0;34m\u001b[0m\u001b[0;34m\u001b[0m\u001b[0m\n\u001b[0m\u001b[1;32m   1194\u001b[0m             \u001b[0mend\u001b[0m \u001b[0;34m=\u001b[0m \u001b[0mclock2\u001b[0m\u001b[0;34m(\u001b[0m\u001b[0;34m)\u001b[0m\u001b[0;34m\u001b[0m\u001b[0;34m\u001b[0m\u001b[0m\n\u001b[1;32m   1195\u001b[0m             \u001b[0mout\u001b[0m \u001b[0;34m=\u001b[0m \u001b[0;32mNone\u001b[0m\u001b[0;34m\u001b[0m\u001b[0;34m\u001b[0m\u001b[0m\n",
            "\u001b[0;32m<timed exec>\u001b[0m in \u001b[0;36m<module>\u001b[0;34m()\u001b[0m\n",
            "\u001b[0;32m/usr/local/lib/python3.6/dist-packages/torch/nn/modules/module.py\u001b[0m in \u001b[0;36m__call__\u001b[0;34m(self, *input, **kwargs)\u001b[0m\n\u001b[1;32m    539\u001b[0m             \u001b[0mresult\u001b[0m \u001b[0;34m=\u001b[0m \u001b[0mself\u001b[0m\u001b[0;34m.\u001b[0m\u001b[0m_slow_forward\u001b[0m\u001b[0;34m(\u001b[0m\u001b[0;34m*\u001b[0m\u001b[0minput\u001b[0m\u001b[0;34m,\u001b[0m \u001b[0;34m**\u001b[0m\u001b[0mkwargs\u001b[0m\u001b[0;34m)\u001b[0m\u001b[0;34m\u001b[0m\u001b[0;34m\u001b[0m\u001b[0m\n\u001b[1;32m    540\u001b[0m         \u001b[0;32melse\u001b[0m\u001b[0;34m:\u001b[0m\u001b[0;34m\u001b[0m\u001b[0;34m\u001b[0m\u001b[0m\n\u001b[0;32m--> 541\u001b[0;31m             \u001b[0mresult\u001b[0m \u001b[0;34m=\u001b[0m \u001b[0mself\u001b[0m\u001b[0;34m.\u001b[0m\u001b[0mforward\u001b[0m\u001b[0;34m(\u001b[0m\u001b[0;34m*\u001b[0m\u001b[0minput\u001b[0m\u001b[0;34m,\u001b[0m \u001b[0;34m**\u001b[0m\u001b[0mkwargs\u001b[0m\u001b[0;34m)\u001b[0m\u001b[0;34m\u001b[0m\u001b[0;34m\u001b[0m\u001b[0m\n\u001b[0m\u001b[1;32m    542\u001b[0m         \u001b[0;32mfor\u001b[0m \u001b[0mhook\u001b[0m \u001b[0;32min\u001b[0m \u001b[0mself\u001b[0m\u001b[0;34m.\u001b[0m\u001b[0m_forward_hooks\u001b[0m\u001b[0;34m.\u001b[0m\u001b[0mvalues\u001b[0m\u001b[0;34m(\u001b[0m\u001b[0;34m)\u001b[0m\u001b[0;34m:\u001b[0m\u001b[0;34m\u001b[0m\u001b[0;34m\u001b[0m\u001b[0m\n\u001b[1;32m    543\u001b[0m             \u001b[0mhook_result\u001b[0m \u001b[0;34m=\u001b[0m \u001b[0mhook\u001b[0m\u001b[0;34m(\u001b[0m\u001b[0mself\u001b[0m\u001b[0;34m,\u001b[0m \u001b[0minput\u001b[0m\u001b[0;34m,\u001b[0m \u001b[0mresult\u001b[0m\u001b[0;34m)\u001b[0m\u001b[0;34m\u001b[0m\u001b[0;34m\u001b[0m\u001b[0m\n",
            "\u001b[0;32m<ipython-input-86-9968730666f8>\u001b[0m in \u001b[0;36mforward\u001b[0;34m(self, inputs)\u001b[0m\n\u001b[1;32m     39\u001b[0m     \u001b[0;32mdef\u001b[0m \u001b[0mforward\u001b[0m\u001b[0;34m(\u001b[0m\u001b[0mself\u001b[0m\u001b[0;34m,\u001b[0m \u001b[0minputs\u001b[0m\u001b[0;34m)\u001b[0m\u001b[0;34m:\u001b[0m\u001b[0;34m\u001b[0m\u001b[0;34m\u001b[0m\u001b[0m\n\u001b[1;32m     40\u001b[0m         \u001b[0mstem\u001b[0m \u001b[0;34m=\u001b[0m \u001b[0mself\u001b[0m\u001b[0;34m.\u001b[0m\u001b[0mstem\u001b[0m\u001b[0;34m(\u001b[0m\u001b[0minputs\u001b[0m\u001b[0;34m)\u001b[0m\u001b[0;34m\u001b[0m\u001b[0;34m\u001b[0m\u001b[0m\n\u001b[0;32m---> 41\u001b[0;31m         \u001b[0mx\u001b[0m \u001b[0;34m=\u001b[0m \u001b[0mself\u001b[0m\u001b[0;34m.\u001b[0m\u001b[0mblocks\u001b[0m\u001b[0;34m(\u001b[0m\u001b[0mstem\u001b[0m\u001b[0;34m)\u001b[0m\u001b[0;34m\u001b[0m\u001b[0;34m\u001b[0m\u001b[0m\n\u001b[0m\u001b[1;32m     42\u001b[0m         \u001b[0mhead\u001b[0m \u001b[0;34m=\u001b[0m \u001b[0mself\u001b[0m\u001b[0;34m.\u001b[0m\u001b[0mhead\u001b[0m\u001b[0;34m(\u001b[0m\u001b[0mx\u001b[0m\u001b[0;34m)\u001b[0m\u001b[0;34m\u001b[0m\u001b[0;34m\u001b[0m\u001b[0m\n\u001b[1;32m     43\u001b[0m         \u001b[0;32mreturn\u001b[0m \u001b[0mhead\u001b[0m\u001b[0;34m\u001b[0m\u001b[0;34m\u001b[0m\u001b[0m\n",
            "\u001b[0;32m/usr/local/lib/python3.6/dist-packages/torch/nn/modules/module.py\u001b[0m in \u001b[0;36m__call__\u001b[0;34m(self, *input, **kwargs)\u001b[0m\n\u001b[1;32m    539\u001b[0m             \u001b[0mresult\u001b[0m \u001b[0;34m=\u001b[0m \u001b[0mself\u001b[0m\u001b[0;34m.\u001b[0m\u001b[0m_slow_forward\u001b[0m\u001b[0;34m(\u001b[0m\u001b[0;34m*\u001b[0m\u001b[0minput\u001b[0m\u001b[0;34m,\u001b[0m \u001b[0;34m**\u001b[0m\u001b[0mkwargs\u001b[0m\u001b[0;34m)\u001b[0m\u001b[0;34m\u001b[0m\u001b[0;34m\u001b[0m\u001b[0m\n\u001b[1;32m    540\u001b[0m         \u001b[0;32melse\u001b[0m\u001b[0;34m:\u001b[0m\u001b[0;34m\u001b[0m\u001b[0;34m\u001b[0m\u001b[0m\n\u001b[0;32m--> 541\u001b[0;31m             \u001b[0mresult\u001b[0m \u001b[0;34m=\u001b[0m \u001b[0mself\u001b[0m\u001b[0;34m.\u001b[0m\u001b[0mforward\u001b[0m\u001b[0;34m(\u001b[0m\u001b[0;34m*\u001b[0m\u001b[0minput\u001b[0m\u001b[0;34m,\u001b[0m \u001b[0;34m**\u001b[0m\u001b[0mkwargs\u001b[0m\u001b[0;34m)\u001b[0m\u001b[0;34m\u001b[0m\u001b[0;34m\u001b[0m\u001b[0m\n\u001b[0m\u001b[1;32m    542\u001b[0m         \u001b[0;32mfor\u001b[0m \u001b[0mhook\u001b[0m \u001b[0;32min\u001b[0m \u001b[0mself\u001b[0m\u001b[0;34m.\u001b[0m\u001b[0m_forward_hooks\u001b[0m\u001b[0;34m.\u001b[0m\u001b[0mvalues\u001b[0m\u001b[0;34m(\u001b[0m\u001b[0;34m)\u001b[0m\u001b[0;34m:\u001b[0m\u001b[0;34m\u001b[0m\u001b[0;34m\u001b[0m\u001b[0m\n\u001b[1;32m    543\u001b[0m             \u001b[0mhook_result\u001b[0m \u001b[0;34m=\u001b[0m \u001b[0mhook\u001b[0m\u001b[0;34m(\u001b[0m\u001b[0mself\u001b[0m\u001b[0;34m,\u001b[0m \u001b[0minput\u001b[0m\u001b[0;34m,\u001b[0m \u001b[0mresult\u001b[0m\u001b[0;34m)\u001b[0m\u001b[0;34m\u001b[0m\u001b[0;34m\u001b[0m\u001b[0m\n",
            "\u001b[0;32m/usr/local/lib/python3.6/dist-packages/torch/nn/modules/container.py\u001b[0m in \u001b[0;36mforward\u001b[0;34m(self, input)\u001b[0m\n\u001b[1;32m     90\u001b[0m     \u001b[0;32mdef\u001b[0m \u001b[0mforward\u001b[0m\u001b[0;34m(\u001b[0m\u001b[0mself\u001b[0m\u001b[0;34m,\u001b[0m \u001b[0minput\u001b[0m\u001b[0;34m)\u001b[0m\u001b[0;34m:\u001b[0m\u001b[0;34m\u001b[0m\u001b[0;34m\u001b[0m\u001b[0m\n\u001b[1;32m     91\u001b[0m         \u001b[0;32mfor\u001b[0m \u001b[0mmodule\u001b[0m \u001b[0;32min\u001b[0m \u001b[0mself\u001b[0m\u001b[0;34m.\u001b[0m\u001b[0m_modules\u001b[0m\u001b[0;34m.\u001b[0m\u001b[0mvalues\u001b[0m\u001b[0;34m(\u001b[0m\u001b[0;34m)\u001b[0m\u001b[0;34m:\u001b[0m\u001b[0;34m\u001b[0m\u001b[0;34m\u001b[0m\u001b[0m\n\u001b[0;32m---> 92\u001b[0;31m             \u001b[0minput\u001b[0m \u001b[0;34m=\u001b[0m \u001b[0mmodule\u001b[0m\u001b[0;34m(\u001b[0m\u001b[0minput\u001b[0m\u001b[0;34m)\u001b[0m\u001b[0;34m\u001b[0m\u001b[0;34m\u001b[0m\u001b[0m\n\u001b[0m\u001b[1;32m     93\u001b[0m         \u001b[0;32mreturn\u001b[0m \u001b[0minput\u001b[0m\u001b[0;34m\u001b[0m\u001b[0;34m\u001b[0m\u001b[0m\n\u001b[1;32m     94\u001b[0m \u001b[0;34m\u001b[0m\u001b[0m\n",
            "\u001b[0;32m/usr/local/lib/python3.6/dist-packages/torch/nn/modules/module.py\u001b[0m in \u001b[0;36m__call__\u001b[0;34m(self, *input, **kwargs)\u001b[0m\n\u001b[1;32m    539\u001b[0m             \u001b[0mresult\u001b[0m \u001b[0;34m=\u001b[0m \u001b[0mself\u001b[0m\u001b[0;34m.\u001b[0m\u001b[0m_slow_forward\u001b[0m\u001b[0;34m(\u001b[0m\u001b[0;34m*\u001b[0m\u001b[0minput\u001b[0m\u001b[0;34m,\u001b[0m \u001b[0;34m**\u001b[0m\u001b[0mkwargs\u001b[0m\u001b[0;34m)\u001b[0m\u001b[0;34m\u001b[0m\u001b[0;34m\u001b[0m\u001b[0m\n\u001b[1;32m    540\u001b[0m         \u001b[0;32melse\u001b[0m\u001b[0;34m:\u001b[0m\u001b[0;34m\u001b[0m\u001b[0;34m\u001b[0m\u001b[0m\n\u001b[0;32m--> 541\u001b[0;31m             \u001b[0mresult\u001b[0m \u001b[0;34m=\u001b[0m \u001b[0mself\u001b[0m\u001b[0;34m.\u001b[0m\u001b[0mforward\u001b[0m\u001b[0;34m(\u001b[0m\u001b[0;34m*\u001b[0m\u001b[0minput\u001b[0m\u001b[0;34m,\u001b[0m \u001b[0;34m**\u001b[0m\u001b[0mkwargs\u001b[0m\u001b[0;34m)\u001b[0m\u001b[0;34m\u001b[0m\u001b[0;34m\u001b[0m\u001b[0m\n\u001b[0m\u001b[1;32m    542\u001b[0m         \u001b[0;32mfor\u001b[0m \u001b[0mhook\u001b[0m \u001b[0;32min\u001b[0m \u001b[0mself\u001b[0m\u001b[0;34m.\u001b[0m\u001b[0m_forward_hooks\u001b[0m\u001b[0;34m.\u001b[0m\u001b[0mvalues\u001b[0m\u001b[0;34m(\u001b[0m\u001b[0;34m)\u001b[0m\u001b[0;34m:\u001b[0m\u001b[0;34m\u001b[0m\u001b[0;34m\u001b[0m\u001b[0m\n\u001b[1;32m    543\u001b[0m             \u001b[0mhook_result\u001b[0m \u001b[0;34m=\u001b[0m \u001b[0mhook\u001b[0m\u001b[0;34m(\u001b[0m\u001b[0mself\u001b[0m\u001b[0;34m,\u001b[0m \u001b[0minput\u001b[0m\u001b[0;34m,\u001b[0m \u001b[0mresult\u001b[0m\u001b[0;34m)\u001b[0m\u001b[0;34m\u001b[0m\u001b[0;34m\u001b[0m\u001b[0m\n",
            "\u001b[0;32m<ipython-input-48-ba98a5d40e89>\u001b[0m in \u001b[0;36mforward\u001b[0;34m(self, x)\u001b[0m\n\u001b[1;32m     46\u001b[0m \u001b[0;34m\u001b[0m\u001b[0m\n\u001b[1;32m     47\u001b[0m     \u001b[0;32mdef\u001b[0m \u001b[0mforward\u001b[0m\u001b[0;34m(\u001b[0m\u001b[0mself\u001b[0m\u001b[0;34m,\u001b[0m \u001b[0mx\u001b[0m\u001b[0;34m)\u001b[0m\u001b[0;34m:\u001b[0m\u001b[0;34m\u001b[0m\u001b[0;34m\u001b[0m\u001b[0m\n\u001b[0;32m---> 48\u001b[0;31m         \u001b[0;32mreturn\u001b[0m  \u001b[0mself\u001b[0m\u001b[0;34m.\u001b[0m\u001b[0mlayers\u001b[0m\u001b[0;34m(\u001b[0m\u001b[0mx\u001b[0m\u001b[0;34m)\u001b[0m\u001b[0;34m\u001b[0m\u001b[0;34m\u001b[0m\u001b[0m\n\u001b[0m",
            "\u001b[0;32m/usr/local/lib/python3.6/dist-packages/torch/nn/modules/module.py\u001b[0m in \u001b[0;36m__call__\u001b[0;34m(self, *input, **kwargs)\u001b[0m\n\u001b[1;32m    539\u001b[0m             \u001b[0mresult\u001b[0m \u001b[0;34m=\u001b[0m \u001b[0mself\u001b[0m\u001b[0;34m.\u001b[0m\u001b[0m_slow_forward\u001b[0m\u001b[0;34m(\u001b[0m\u001b[0;34m*\u001b[0m\u001b[0minput\u001b[0m\u001b[0;34m,\u001b[0m \u001b[0;34m**\u001b[0m\u001b[0mkwargs\u001b[0m\u001b[0;34m)\u001b[0m\u001b[0;34m\u001b[0m\u001b[0;34m\u001b[0m\u001b[0m\n\u001b[1;32m    540\u001b[0m         \u001b[0;32melse\u001b[0m\u001b[0;34m:\u001b[0m\u001b[0;34m\u001b[0m\u001b[0;34m\u001b[0m\u001b[0m\n\u001b[0;32m--> 541\u001b[0;31m             \u001b[0mresult\u001b[0m \u001b[0;34m=\u001b[0m \u001b[0mself\u001b[0m\u001b[0;34m.\u001b[0m\u001b[0mforward\u001b[0m\u001b[0;34m(\u001b[0m\u001b[0;34m*\u001b[0m\u001b[0minput\u001b[0m\u001b[0;34m,\u001b[0m \u001b[0;34m**\u001b[0m\u001b[0mkwargs\u001b[0m\u001b[0;34m)\u001b[0m\u001b[0;34m\u001b[0m\u001b[0;34m\u001b[0m\u001b[0m\n\u001b[0m\u001b[1;32m    542\u001b[0m         \u001b[0;32mfor\u001b[0m \u001b[0mhook\u001b[0m \u001b[0;32min\u001b[0m \u001b[0mself\u001b[0m\u001b[0;34m.\u001b[0m\u001b[0m_forward_hooks\u001b[0m\u001b[0;34m.\u001b[0m\u001b[0mvalues\u001b[0m\u001b[0;34m(\u001b[0m\u001b[0;34m)\u001b[0m\u001b[0;34m:\u001b[0m\u001b[0;34m\u001b[0m\u001b[0;34m\u001b[0m\u001b[0m\n\u001b[1;32m    543\u001b[0m             \u001b[0mhook_result\u001b[0m \u001b[0;34m=\u001b[0m \u001b[0mhook\u001b[0m\u001b[0;34m(\u001b[0m\u001b[0mself\u001b[0m\u001b[0;34m,\u001b[0m \u001b[0minput\u001b[0m\u001b[0;34m,\u001b[0m \u001b[0mresult\u001b[0m\u001b[0;34m)\u001b[0m\u001b[0;34m\u001b[0m\u001b[0;34m\u001b[0m\u001b[0m\n",
            "\u001b[0;32m/usr/local/lib/python3.6/dist-packages/torch/nn/modules/container.py\u001b[0m in \u001b[0;36mforward\u001b[0;34m(self, input)\u001b[0m\n\u001b[1;32m     90\u001b[0m     \u001b[0;32mdef\u001b[0m \u001b[0mforward\u001b[0m\u001b[0;34m(\u001b[0m\u001b[0mself\u001b[0m\u001b[0;34m,\u001b[0m \u001b[0minput\u001b[0m\u001b[0;34m)\u001b[0m\u001b[0;34m:\u001b[0m\u001b[0;34m\u001b[0m\u001b[0;34m\u001b[0m\u001b[0m\n\u001b[1;32m     91\u001b[0m         \u001b[0;32mfor\u001b[0m \u001b[0mmodule\u001b[0m \u001b[0;32min\u001b[0m \u001b[0mself\u001b[0m\u001b[0;34m.\u001b[0m\u001b[0m_modules\u001b[0m\u001b[0;34m.\u001b[0m\u001b[0mvalues\u001b[0m\u001b[0;34m(\u001b[0m\u001b[0;34m)\u001b[0m\u001b[0;34m:\u001b[0m\u001b[0;34m\u001b[0m\u001b[0;34m\u001b[0m\u001b[0m\n\u001b[0;32m---> 92\u001b[0;31m             \u001b[0minput\u001b[0m \u001b[0;34m=\u001b[0m \u001b[0mmodule\u001b[0m\u001b[0;34m(\u001b[0m\u001b[0minput\u001b[0m\u001b[0;34m)\u001b[0m\u001b[0;34m\u001b[0m\u001b[0;34m\u001b[0m\u001b[0m\n\u001b[0m\u001b[1;32m     93\u001b[0m         \u001b[0;32mreturn\u001b[0m \u001b[0minput\u001b[0m\u001b[0;34m\u001b[0m\u001b[0;34m\u001b[0m\u001b[0m\n\u001b[1;32m     94\u001b[0m \u001b[0;34m\u001b[0m\u001b[0m\n",
            "\u001b[0;32m/usr/local/lib/python3.6/dist-packages/torch/nn/modules/module.py\u001b[0m in \u001b[0;36m__call__\u001b[0;34m(self, *input, **kwargs)\u001b[0m\n\u001b[1;32m    539\u001b[0m             \u001b[0mresult\u001b[0m \u001b[0;34m=\u001b[0m \u001b[0mself\u001b[0m\u001b[0;34m.\u001b[0m\u001b[0m_slow_forward\u001b[0m\u001b[0;34m(\u001b[0m\u001b[0;34m*\u001b[0m\u001b[0minput\u001b[0m\u001b[0;34m,\u001b[0m \u001b[0;34m**\u001b[0m\u001b[0mkwargs\u001b[0m\u001b[0;34m)\u001b[0m\u001b[0;34m\u001b[0m\u001b[0;34m\u001b[0m\u001b[0m\n\u001b[1;32m    540\u001b[0m         \u001b[0;32melse\u001b[0m\u001b[0;34m:\u001b[0m\u001b[0;34m\u001b[0m\u001b[0;34m\u001b[0m\u001b[0m\n\u001b[0;32m--> 541\u001b[0;31m             \u001b[0mresult\u001b[0m \u001b[0;34m=\u001b[0m \u001b[0mself\u001b[0m\u001b[0;34m.\u001b[0m\u001b[0mforward\u001b[0m\u001b[0;34m(\u001b[0m\u001b[0;34m*\u001b[0m\u001b[0minput\u001b[0m\u001b[0;34m,\u001b[0m \u001b[0;34m**\u001b[0m\u001b[0mkwargs\u001b[0m\u001b[0;34m)\u001b[0m\u001b[0;34m\u001b[0m\u001b[0;34m\u001b[0m\u001b[0m\n\u001b[0m\u001b[1;32m    542\u001b[0m         \u001b[0;32mfor\u001b[0m \u001b[0mhook\u001b[0m \u001b[0;32min\u001b[0m \u001b[0mself\u001b[0m\u001b[0;34m.\u001b[0m\u001b[0m_forward_hooks\u001b[0m\u001b[0;34m.\u001b[0m\u001b[0mvalues\u001b[0m\u001b[0;34m(\u001b[0m\u001b[0;34m)\u001b[0m\u001b[0;34m:\u001b[0m\u001b[0;34m\u001b[0m\u001b[0;34m\u001b[0m\u001b[0m\n\u001b[1;32m    543\u001b[0m             \u001b[0mhook_result\u001b[0m \u001b[0;34m=\u001b[0m \u001b[0mhook\u001b[0m\u001b[0;34m(\u001b[0m\u001b[0mself\u001b[0m\u001b[0;34m,\u001b[0m \u001b[0minput\u001b[0m\u001b[0;34m,\u001b[0m \u001b[0mresult\u001b[0m\u001b[0;34m)\u001b[0m\u001b[0;34m\u001b[0m\u001b[0;34m\u001b[0m\u001b[0m\n",
            "\u001b[0;32m<ipython-input-48-ba98a5d40e89>\u001b[0m in \u001b[0;36mforward\u001b[0;34m(self, x)\u001b[0m\n\u001b[1;32m     28\u001b[0m         \u001b[0mx1\u001b[0m \u001b[0;34m=\u001b[0m \u001b[0mself\u001b[0m\u001b[0;34m.\u001b[0m\u001b[0mdepth_wise_conv\u001b[0m\u001b[0;34m(\u001b[0m\u001b[0mexpand\u001b[0m\u001b[0;34m)\u001b[0m\u001b[0;34m\u001b[0m\u001b[0;34m\u001b[0m\u001b[0m\n\u001b[1;32m     29\u001b[0m         \u001b[0mx1\u001b[0m \u001b[0;34m=\u001b[0m \u001b[0mself\u001b[0m\u001b[0;34m.\u001b[0m\u001b[0mse\u001b[0m\u001b[0;34m(\u001b[0m\u001b[0mx1\u001b[0m\u001b[0;34m)\u001b[0m\u001b[0;34m\u001b[0m\u001b[0;34m\u001b[0m\u001b[0m\n\u001b[0;32m---> 30\u001b[0;31m         \u001b[0mx1\u001b[0m \u001b[0;34m=\u001b[0m \u001b[0mself\u001b[0m\u001b[0;34m.\u001b[0m\u001b[0mproject_conv\u001b[0m\u001b[0;34m(\u001b[0m\u001b[0mx1\u001b[0m\u001b[0;34m)\u001b[0m\u001b[0;34m\u001b[0m\u001b[0;34m\u001b[0m\u001b[0m\n\u001b[0m\u001b[1;32m     31\u001b[0m         \u001b[0;32mif\u001b[0m \u001b[0mself\u001b[0m\u001b[0;34m.\u001b[0m\u001b[0mskip\u001b[0m\u001b[0;34m:\u001b[0m\u001b[0;34m\u001b[0m\u001b[0;34m\u001b[0m\u001b[0m\n\u001b[1;32m     32\u001b[0m             \u001b[0mx1\u001b[0m \u001b[0;34m=\u001b[0m \u001b[0mself\u001b[0m\u001b[0;34m.\u001b[0m\u001b[0mdropconnect\u001b[0m\u001b[0;34m(\u001b[0m\u001b[0mx1\u001b[0m\u001b[0;34m)\u001b[0m\u001b[0;34m\u001b[0m\u001b[0;34m\u001b[0m\u001b[0m\n",
            "\u001b[0;32m/usr/local/lib/python3.6/dist-packages/torch/nn/modules/module.py\u001b[0m in \u001b[0;36m__call__\u001b[0;34m(self, *input, **kwargs)\u001b[0m\n\u001b[1;32m    539\u001b[0m             \u001b[0mresult\u001b[0m \u001b[0;34m=\u001b[0m \u001b[0mself\u001b[0m\u001b[0;34m.\u001b[0m\u001b[0m_slow_forward\u001b[0m\u001b[0;34m(\u001b[0m\u001b[0;34m*\u001b[0m\u001b[0minput\u001b[0m\u001b[0;34m,\u001b[0m \u001b[0;34m**\u001b[0m\u001b[0mkwargs\u001b[0m\u001b[0;34m)\u001b[0m\u001b[0;34m\u001b[0m\u001b[0;34m\u001b[0m\u001b[0m\n\u001b[1;32m    540\u001b[0m         \u001b[0;32melse\u001b[0m\u001b[0;34m:\u001b[0m\u001b[0;34m\u001b[0m\u001b[0;34m\u001b[0m\u001b[0m\n\u001b[0;32m--> 541\u001b[0;31m             \u001b[0mresult\u001b[0m \u001b[0;34m=\u001b[0m \u001b[0mself\u001b[0m\u001b[0;34m.\u001b[0m\u001b[0mforward\u001b[0m\u001b[0;34m(\u001b[0m\u001b[0;34m*\u001b[0m\u001b[0minput\u001b[0m\u001b[0;34m,\u001b[0m \u001b[0;34m**\u001b[0m\u001b[0mkwargs\u001b[0m\u001b[0;34m)\u001b[0m\u001b[0;34m\u001b[0m\u001b[0;34m\u001b[0m\u001b[0m\n\u001b[0m\u001b[1;32m    542\u001b[0m         \u001b[0;32mfor\u001b[0m \u001b[0mhook\u001b[0m \u001b[0;32min\u001b[0m \u001b[0mself\u001b[0m\u001b[0;34m.\u001b[0m\u001b[0m_forward_hooks\u001b[0m\u001b[0;34m.\u001b[0m\u001b[0mvalues\u001b[0m\u001b[0;34m(\u001b[0m\u001b[0;34m)\u001b[0m\u001b[0;34m:\u001b[0m\u001b[0;34m\u001b[0m\u001b[0;34m\u001b[0m\u001b[0m\n\u001b[1;32m    543\u001b[0m             \u001b[0mhook_result\u001b[0m \u001b[0;34m=\u001b[0m \u001b[0mhook\u001b[0m\u001b[0;34m(\u001b[0m\u001b[0mself\u001b[0m\u001b[0;34m,\u001b[0m \u001b[0minput\u001b[0m\u001b[0;34m,\u001b[0m \u001b[0mresult\u001b[0m\u001b[0;34m)\u001b[0m\u001b[0;34m\u001b[0m\u001b[0;34m\u001b[0m\u001b[0m\n",
            "\u001b[0;32m/usr/local/lib/python3.6/dist-packages/torch/nn/modules/container.py\u001b[0m in \u001b[0;36mforward\u001b[0;34m(self, input)\u001b[0m\n\u001b[1;32m     90\u001b[0m     \u001b[0;32mdef\u001b[0m \u001b[0mforward\u001b[0m\u001b[0;34m(\u001b[0m\u001b[0mself\u001b[0m\u001b[0;34m,\u001b[0m \u001b[0minput\u001b[0m\u001b[0;34m)\u001b[0m\u001b[0;34m:\u001b[0m\u001b[0;34m\u001b[0m\u001b[0;34m\u001b[0m\u001b[0m\n\u001b[1;32m     91\u001b[0m         \u001b[0;32mfor\u001b[0m \u001b[0mmodule\u001b[0m \u001b[0;32min\u001b[0m \u001b[0mself\u001b[0m\u001b[0;34m.\u001b[0m\u001b[0m_modules\u001b[0m\u001b[0;34m.\u001b[0m\u001b[0mvalues\u001b[0m\u001b[0;34m(\u001b[0m\u001b[0;34m)\u001b[0m\u001b[0;34m:\u001b[0m\u001b[0;34m\u001b[0m\u001b[0;34m\u001b[0m\u001b[0m\n\u001b[0;32m---> 92\u001b[0;31m             \u001b[0minput\u001b[0m \u001b[0;34m=\u001b[0m \u001b[0mmodule\u001b[0m\u001b[0;34m(\u001b[0m\u001b[0minput\u001b[0m\u001b[0;34m)\u001b[0m\u001b[0;34m\u001b[0m\u001b[0;34m\u001b[0m\u001b[0m\n\u001b[0m\u001b[1;32m     93\u001b[0m         \u001b[0;32mreturn\u001b[0m \u001b[0minput\u001b[0m\u001b[0;34m\u001b[0m\u001b[0;34m\u001b[0m\u001b[0m\n\u001b[1;32m     94\u001b[0m \u001b[0;34m\u001b[0m\u001b[0m\n",
            "\u001b[0;32m/usr/local/lib/python3.6/dist-packages/torch/nn/modules/module.py\u001b[0m in \u001b[0;36m__call__\u001b[0;34m(self, *input, **kwargs)\u001b[0m\n\u001b[1;32m    539\u001b[0m             \u001b[0mresult\u001b[0m \u001b[0;34m=\u001b[0m \u001b[0mself\u001b[0m\u001b[0;34m.\u001b[0m\u001b[0m_slow_forward\u001b[0m\u001b[0;34m(\u001b[0m\u001b[0;34m*\u001b[0m\u001b[0minput\u001b[0m\u001b[0;34m,\u001b[0m \u001b[0;34m**\u001b[0m\u001b[0mkwargs\u001b[0m\u001b[0;34m)\u001b[0m\u001b[0;34m\u001b[0m\u001b[0;34m\u001b[0m\u001b[0m\n\u001b[1;32m    540\u001b[0m         \u001b[0;32melse\u001b[0m\u001b[0;34m:\u001b[0m\u001b[0;34m\u001b[0m\u001b[0;34m\u001b[0m\u001b[0m\n\u001b[0;32m--> 541\u001b[0;31m             \u001b[0mresult\u001b[0m \u001b[0;34m=\u001b[0m \u001b[0mself\u001b[0m\u001b[0;34m.\u001b[0m\u001b[0mforward\u001b[0m\u001b[0;34m(\u001b[0m\u001b[0;34m*\u001b[0m\u001b[0minput\u001b[0m\u001b[0;34m,\u001b[0m \u001b[0;34m**\u001b[0m\u001b[0mkwargs\u001b[0m\u001b[0;34m)\u001b[0m\u001b[0;34m\u001b[0m\u001b[0;34m\u001b[0m\u001b[0m\n\u001b[0m\u001b[1;32m    542\u001b[0m         \u001b[0;32mfor\u001b[0m \u001b[0mhook\u001b[0m \u001b[0;32min\u001b[0m \u001b[0mself\u001b[0m\u001b[0;34m.\u001b[0m\u001b[0m_forward_hooks\u001b[0m\u001b[0;34m.\u001b[0m\u001b[0mvalues\u001b[0m\u001b[0;34m(\u001b[0m\u001b[0;34m)\u001b[0m\u001b[0;34m:\u001b[0m\u001b[0;34m\u001b[0m\u001b[0;34m\u001b[0m\u001b[0m\n\u001b[1;32m    543\u001b[0m             \u001b[0mhook_result\u001b[0m \u001b[0;34m=\u001b[0m \u001b[0mhook\u001b[0m\u001b[0;34m(\u001b[0m\u001b[0mself\u001b[0m\u001b[0;34m,\u001b[0m \u001b[0minput\u001b[0m\u001b[0;34m,\u001b[0m \u001b[0mresult\u001b[0m\u001b[0;34m)\u001b[0m\u001b[0;34m\u001b[0m\u001b[0;34m\u001b[0m\u001b[0m\n",
            "\u001b[0;32m/usr/local/lib/python3.6/dist-packages/torch/nn/modules/batchnorm.py\u001b[0m in \u001b[0;36mforward\u001b[0;34m(self, input)\u001b[0m\n\u001b[1;32m     70\u001b[0m             \u001b[0;31m# TODO: if statement only here to tell the jit to skip emitting this when it is None\u001b[0m\u001b[0;34m\u001b[0m\u001b[0;34m\u001b[0m\u001b[0;34m\u001b[0m\u001b[0m\n\u001b[1;32m     71\u001b[0m             \u001b[0;32mif\u001b[0m \u001b[0mself\u001b[0m\u001b[0;34m.\u001b[0m\u001b[0mnum_batches_tracked\u001b[0m \u001b[0;32mis\u001b[0m \u001b[0;32mnot\u001b[0m \u001b[0;32mNone\u001b[0m\u001b[0;34m:\u001b[0m\u001b[0;34m\u001b[0m\u001b[0;34m\u001b[0m\u001b[0m\n\u001b[0;32m---> 72\u001b[0;31m                 \u001b[0mself\u001b[0m\u001b[0;34m.\u001b[0m\u001b[0mnum_batches_tracked\u001b[0m \u001b[0;34m+=\u001b[0m \u001b[0;36m1\u001b[0m\u001b[0;34m\u001b[0m\u001b[0;34m\u001b[0m\u001b[0m\n\u001b[0m\u001b[1;32m     73\u001b[0m                 \u001b[0;32mif\u001b[0m \u001b[0mself\u001b[0m\u001b[0;34m.\u001b[0m\u001b[0mmomentum\u001b[0m \u001b[0;32mis\u001b[0m \u001b[0;32mNone\u001b[0m\u001b[0;34m:\u001b[0m  \u001b[0;31m# use cumulative moving average\u001b[0m\u001b[0;34m\u001b[0m\u001b[0;34m\u001b[0m\u001b[0m\n\u001b[1;32m     74\u001b[0m                     \u001b[0mexponential_average_factor\u001b[0m \u001b[0;34m=\u001b[0m \u001b[0;36m1.0\u001b[0m \u001b[0;34m/\u001b[0m \u001b[0mfloat\u001b[0m\u001b[0;34m(\u001b[0m\u001b[0mself\u001b[0m\u001b[0;34m.\u001b[0m\u001b[0mnum_batches_tracked\u001b[0m\u001b[0;34m)\u001b[0m\u001b[0;34m\u001b[0m\u001b[0;34m\u001b[0m\u001b[0m\n",
            "\u001b[0;31mKeyboardInterrupt\u001b[0m: "
          ]
        }
      ]
    },
    {
      "cell_type": "code",
      "metadata": {
        "id": "NnSZgKtB6DD6",
        "colab_type": "code",
        "colab": {
          "base_uri": "https://localhost:8080/",
          "height": 516
        },
        "outputId": "f735472f-74af-4063-ceee-641c269f8002"
      },
      "source": [
        "plt.figure(figsize=(10,8))\n",
        "plt.title('Training loss')\n",
        "plt.plot(loss_log)"
      ],
      "execution_count": 94,
      "outputs": [
        {
          "output_type": "execute_result",
          "data": {
            "text/plain": [
              "[<matplotlib.lines.Line2D at 0x7fd4c20c6080>]"
            ]
          },
          "metadata": {
            "tags": []
          },
          "execution_count": 94
        },
        {
          "output_type": "display_data",
          "data": {
            "image/png": "[encoded data removed]",
            "text/plain": [
              "<Figure size 720x576 with 1 Axes>"
            ]
          },
          "metadata": {
            "tags": []
          }
        }
      ]
    },
    {
      "cell_type": "code",
      "metadata": {
        "id": "nK13CAiy6GRo",
        "colab_type": "code",
        "colab": {}
      },
      "source": [
        "submit = pd.read_csv('./sample_submission.csv')\n",
        "test_data = Data(df = submit, data_dir = test, transform = data_transf) \n",
        "test_loader = DataLoader(dataset = test_data, shuffle=False)"
      ],
      "execution_count": 0,
      "outputs": []
    },
    {
      "cell_type": "code",
      "metadata": {
        "id": "0wU4aesF6R-Z",
        "colab_type": "code",
        "colab": {
          "base_uri": "https://localhost:8080/",
          "height": 51
        },
        "outputId": "9db53dfd-36fe-4fe3-b9cd-0817c0691a12"
      },
      "source": [
        "%%time\n",
        "predictions = []\n",
        "model.eval()\n",
        "for i, (data, _) in enumerate(test_loader):\n",
        "    data = data.cuda()\n",
        "    output = model(data)\n",
        "\n",
        "    pred = torch.sigmoid(output)\n",
        "    predictions.append(pred.item())"
      ],
      "execution_count": 96,
      "outputs": [
        {
          "output_type": "stream",
          "text": [
            "CPU times: user 48.9 s, sys: 124 ms, total: 49 s\n",
            "Wall time: 49 s\n"
          ],
          "name": "stdout"
        }
      ]
    },
    {
      "cell_type": "code",
      "metadata": {
        "id": "fw9xO_Lo6Vgw",
        "colab_type": "code",
        "colab": {}
      },
      "source": [
        "submit['has_cactus'] = predictions\n",
        "submit.to_csv('submission1.csv', index=False)"
      ],
      "execution_count": 0,
      "outputs": []
    },
    {
      "cell_type": "code",
      "metadata": {
        "id": "2e9ASW1n89Fn",
        "colab_type": "code",
        "colab": {}
      },
      "source": [
        "files.download('./submission1.csv')"
      ],
      "execution_count": 0,
      "outputs": []
    }
  ]
}